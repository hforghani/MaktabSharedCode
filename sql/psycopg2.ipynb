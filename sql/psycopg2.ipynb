{
 "cells": [
  {
   "cell_type": "markdown",
   "id": "099b6ec0-d0f8-4b16-9c44-b15e767083e6",
   "metadata": {},
   "source": [
    "# Psycopg2"
   ]
  },
  {
   "cell_type": "code",
   "execution_count": 6,
   "id": "803cbe66-ee94-4b1f-af75-7a5a5e349d26",
   "metadata": {},
   "outputs": [
    {
     "name": "stdout",
     "output_type": "stream",
     "text": [
      "Defaulting to user installation because normal site-packages is not writeable\n",
      "Requirement already satisfied: psycopg2-binary in /home/user1/.local/lib/python3.10/site-packages (2.9.9)\n",
      "\n",
      "\u001b[1m[\u001b[0m\u001b[34;49mnotice\u001b[0m\u001b[1;39;49m]\u001b[0m\u001b[39;49m A new release of pip is available: \u001b[0m\u001b[31;49m24.0\u001b[0m\u001b[39;49m -> \u001b[0m\u001b[32;49m24.1.2\u001b[0m\n",
      "\u001b[1m[\u001b[0m\u001b[34;49mnotice\u001b[0m\u001b[1;39;49m]\u001b[0m\u001b[39;49m To update, run: \u001b[0m\u001b[32;49mpython3 -m pip install --upgrade pip\u001b[0m\n",
      "Note: you may need to restart the kernel to use updated packages.\n"
     ]
    }
   ],
   "source": [
    "%pip install psycopg2-binary"
   ]
  },
  {
   "cell_type": "code",
   "execution_count": 1,
   "id": "07576936-4a31-4125-8cb5-34194c33054a",
   "metadata": {},
   "outputs": [],
   "source": [
    "import psycopg2"
   ]
  },
  {
   "cell_type": "code",
   "execution_count": 2,
   "id": "5c28e59d-f6c2-45bd-bf96-827b89cb5b73",
   "metadata": {},
   "outputs": [],
   "source": [
    "conn = psycopg2.connect(\"dbname=dvdrental user=postgres password=postgres\")"
   ]
  },
  {
   "cell_type": "code",
   "execution_count": 5,
   "id": "5342a383-c661-4513-b0a2-c5e2544b09fb",
   "metadata": {},
   "outputs": [],
   "source": [
    "from pprint import pprint\n",
    "\n",
    "cur = conn.cursor()\n",
    "cur.execute(\"SELECT film_id FROM film;\")\n",
    "# pprint(cur.fetchall())"
   ]
  },
  {
   "cell_type": "code",
   "execution_count": 8,
   "id": "013956ad-0cb5-4eef-8e2e-b7b7345a814d",
   "metadata": {},
   "outputs": [
    {
     "name": "stdout",
     "output_type": "stream",
     "text": [
      "(8,)\n"
     ]
    }
   ],
   "source": [
    "pprint(cur.fetchone())"
   ]
  },
  {
   "cell_type": "markdown",
   "id": "73b82081-b061-4b20-91d3-84270d0dc9fa",
   "metadata": {},
   "source": [
    "## Placeholder"
   ]
  },
  {
   "cell_type": "code",
   "execution_count": 22,
   "id": "4ecdf8be-0d8e-4240-97e9-268216b57661",
   "metadata": {},
   "outputs": [
    {
     "name": "stdout",
     "output_type": "stream",
     "text": [
      "[(514,\n",
      "  'Lebowski Soldiers',\n",
      "  'A Beautiful Epistle of a Secret Agent And a Pioneer who must Chase a '\n",
      "  'Astronaut in Ancient China',\n",
      "  2006,\n",
      "  1,\n",
      "  6,\n",
      "  Decimal('2.99'),\n",
      "  69,\n",
      "  Decimal('17.99'),\n",
      "  'PG-13',\n",
      "  datetime.datetime(2013, 5, 26, 14, 50, 58, 951000),\n",
      "  ['Commentaries', 'Deleted Scenes'],\n",
      "  \"'agent':9 'ancient':19 'astronaut':17 'beauti':4 'chase':15 'china':20 \"\n",
      "  \"'epistl':5 'lebowski':1 'must':14 'pioneer':12 'secret':8 'soldier':2\")]\n"
     ]
    }
   ],
   "source": [
    "cur.execute(\n",
    "    \"select * from film \\\n",
    "    where title ilike %s and length > %s\",\n",
    "   (\"%ski%\", 10)\n",
    ")\n",
    "pprint(cur.fetchall())"
   ]
  },
  {
   "cell_type": "code",
   "execution_count": 23,
   "id": "2874469e-3d4f-4789-a446-e756224b73b9",
   "metadata": {},
   "outputs": [
    {
     "name": "stdout",
     "output_type": "stream",
     "text": [
      "[(514,\n",
      "  'Lebowski Soldiers',\n",
      "  'A Beautiful Epistle of a Secret Agent And a Pioneer who must Chase a '\n",
      "  'Astronaut in Ancient China',\n",
      "  2006,\n",
      "  1,\n",
      "  6,\n",
      "  Decimal('2.99'),\n",
      "  69,\n",
      "  Decimal('17.99'),\n",
      "  'PG-13',\n",
      "  datetime.datetime(2013, 5, 26, 14, 50, 58, 951000),\n",
      "  ['Commentaries', 'Deleted Scenes'],\n",
      "  \"'agent':9 'ancient':19 'astronaut':17 'beauti':4 'chase':15 'china':20 \"\n",
      "  \"'epistl':5 'lebowski':1 'must':14 'pioneer':12 'secret':8 'soldier':2\")]\n"
     ]
    }
   ],
   "source": [
    "cur.execute(\n",
    "    \"select * from film \\\n",
    "    where title ilike %(pattern)s and length > %(min_length)s\",\n",
    "   {\"pattern\": \"%ski%\", \"min_length\": 10}\n",
    ")\n",
    "pprint(cur.fetchall())"
   ]
  },
  {
   "cell_type": "markdown",
   "id": "11c23327-12c3-46fb-9512-412eb033f735",
   "metadata": {},
   "source": [
    "## Transaction"
   ]
  },
  {
   "cell_type": "code",
   "execution_count": 25,
   "id": "95f0d18d-dde7-465a-b691-c33eed50400d",
   "metadata": {},
   "outputs": [],
   "source": [
    "cur.execute(\n",
    "    \"update my_film set title = 'بادیگارد' where title ilike '%ski%'\"\n",
    ")\n"
   ]
  },
  {
   "cell_type": "code",
   "execution_count": 26,
   "id": "3778f473-dc86-4787-ad66-680250c397d1",
   "metadata": {},
   "outputs": [],
   "source": [
    "conn.commit()"
   ]
  },
  {
   "cell_type": "code",
   "execution_count": 27,
   "id": "c223448b-01fc-4bb0-b141-ccd634906da0",
   "metadata": {},
   "outputs": [
    {
     "name": "stdout",
     "output_type": "stream",
     "text": [
      "[(514,\n",
      "  'بادیگارد',\n",
      "  'A Beautiful Epistle of a Secret Agent And a Pioneer who must Chase a '\n",
      "  'Astronaut in Ancient China',\n",
      "  2006,\n",
      "  1,\n",
      "  6,\n",
      "  Decimal('2.99'),\n",
      "  69,\n",
      "  Decimal('17.99'),\n",
      "  'PG-13',\n",
      "  datetime.datetime(2013, 5, 26, 14, 50, 58, 951000),\n",
      "  ['Commentaries', 'Deleted Scenes'],\n",
      "  \"'agent':9 'ancient':19 'astronaut':17 'beauti':4 'chase':15 'china':20 \"\n",
      "  \"'epistl':5 'lebowski':1 'must':14 'pioneer':12 'secret':8 'soldier':2\")]\n"
     ]
    }
   ],
   "source": [
    "cur.execute(\n",
    "    \"select * from my_film where title = %s\", (\"بادیگارد\",)\n",
    ")\n",
    "pprint(cur.fetchall())"
   ]
  },
  {
   "cell_type": "code",
   "execution_count": 30,
   "id": "92772f55-aabc-4f24-a140-1e7cffcd685f",
   "metadata": {},
   "outputs": [],
   "source": [
    "cur.execute(\n",
    "    \"update my_film set title = 'به وقت شام' where title ilike '%بادیگارد%'\"\n",
    ")"
   ]
  },
  {
   "cell_type": "code",
   "execution_count": 31,
   "id": "4d85f434-ca6a-4961-9f18-9d567147dd73",
   "metadata": {},
   "outputs": [],
   "source": [
    "conn.commit()\n",
    "conn.rollback() # nonsense"
   ]
  },
  {
   "cell_type": "code",
   "execution_count": 33,
   "id": "6bd1a0ae-8b8c-4f0a-8a13-40a2babd0b73",
   "metadata": {},
   "outputs": [
    {
     "name": "stdout",
     "output_type": "stream",
     "text": [
      "syntax error at or near \"some\"\n",
      "LINE 1: some bad sql\n",
      "        ^\n",
      "\n",
      "rolled back\n"
     ]
    }
   ],
   "source": [
    "try:\n",
    "    cur.execute(\n",
    "        \"some bad sql\"\n",
    "    )\n",
    "    # ...\n",
    "except Exception as e:\n",
    "    conn.rollback()\n",
    "    print(e)\n",
    "    print(\"rolled back\")\n",
    "else:\n",
    "    conn.commit()\n",
    "    print(\"commited\")\n",
    "\n",
    "\n",
    "cur.execute(\n",
    "        \"another sql ...\"\n",
    "    )\n",
    "cur.commit()"
   ]
  },
  {
   "cell_type": "code",
   "execution_count": 35,
   "id": "d295ed20-3d3d-4a73-aa84-3651123ad68a",
   "metadata": {},
   "outputs": [],
   "source": [
    "conn.close()"
   ]
  },
  {
   "cell_type": "markdown",
   "id": "e1036e72-af5a-4fe1-8637-31c83012e485",
   "metadata": {},
   "source": [
    "Use \"with\" in order to commit / roll back automatically."
   ]
  },
  {
   "cell_type": "code",
   "execution_count": 37,
   "id": "f82f3590-211f-4c92-b976-c158074640c7",
   "metadata": {},
   "outputs": [],
   "source": [
    "username = \"postgres\"\n",
    "password = \"postgres\"\n",
    "connect_config = f\"dbname=dvdrental user={username} password={password}\"\n",
    "conn = psycopg2.connect(connect_config)\n",
    "\n",
    "try:\n",
    "    with conn:\n",
    "        with conn.cursor() as curs:\n",
    "            curs.execute('SELECT * FROM my_film;')\n",
    "finally:\n",
    "    conn.close() # Yet needs closing"
   ]
  }
 ],
 "metadata": {
  "kernelspec": {
   "display_name": "Python 3 (ipykernel)",
   "language": "python",
   "name": "python3"
  },
  "language_info": {
   "codemirror_mode": {
    "name": "ipython",
    "version": 3
   },
   "file_extension": ".py",
   "mimetype": "text/x-python",
   "name": "python",
   "nbconvert_exporter": "python",
   "pygments_lexer": "ipython3",
   "version": "3.10.12"
  }
 },
 "nbformat": 4,
 "nbformat_minor": 5
}
