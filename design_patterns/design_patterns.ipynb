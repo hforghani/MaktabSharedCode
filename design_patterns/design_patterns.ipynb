{
 "cells": [
  {
   "cell_type": "markdown",
   "id": "6831b59b-ca37-49ef-8b98-d01689a22daa",
   "metadata": {},
   "source": [
    "# Singleton"
   ]
  },
  {
   "cell_type": "code",
   "execution_count": 1,
   "id": "e63baba5-ae20-48b0-b959-3ffd20919c01",
   "metadata": {},
   "outputs": [],
   "source": [
    "class SingletonMeta(type):\n",
    "    \"\"\"\n",
    "    A metaclass for Singleton pattern.\n",
    "    \"\"\"\n",
    "\n",
    "    _instances = {}\n",
    "\n",
    "    def __call__(cls, *args, **kwargs):\n",
    "        if cls not in cls._instances:\n",
    "            instance = super().__call__(*args, **kwargs)\n",
    "            cls._instances[cls] = instance\n",
    "        return cls._instances[cls]\n",
    "\n",
    "\n",
    "class Logger(metaclass=SingletonMeta):\n",
    "    \"\"\"\n",
    "    Logger class that follows the Singleton pattern.\n",
    "    \"\"\"\n",
    "\n",
    "    def __init__(self):\n",
    "        self.log_file = \"app.log\"\n",
    "\n",
    "    def log(self, message):\n",
    "        with open(self.log_file, \"a\") as f:\n",
    "            f.write(f\"{message}\\n\")\n",
    "\n",
    "    def show_log(self):\n",
    "        with open(self.log_file, \"r\") as f:\n",
    "            return f.read()"
   ]
  },
  {
   "cell_type": "code",
   "execution_count": 2,
   "id": "1e9627ba-31ff-455a-a302-6cfa7f8279fd",
   "metadata": {},
   "outputs": [
    {
     "name": "stdout",
     "output_type": "stream",
     "text": [
      "Logger1 ID: 133027868474864\n",
      "Logger2 ID: 133027868474864\n"
     ]
    }
   ],
   "source": [
    "# Get the singleton logger instance\n",
    "logger1 = Logger()\n",
    "logger2 = Logger()\n",
    "\n",
    "# Check if both logger instances are the same\n",
    "print(f\"Logger1 ID: {id(logger1)}\")\n",
    "print(f\"Logger2 ID: {id(logger2)}\")"
   ]
  },
  {
   "cell_type": "code",
   "execution_count": 3,
   "id": "a952cf86-586d-4790-ab39-dc2e2b2f9aba",
   "metadata": {},
   "outputs": [
    {
     "name": "stdout",
     "output_type": "stream",
     "text": [
      "Log contents:\n",
      "This is the first log message.\n",
      "This is the second log message.\n",
      "\n"
     ]
    }
   ],
   "source": [
    "# Log some messages\n",
    "logger1.log(\"This is the first log message.\")\n",
    "logger2.log(\"This is the second log message.\")\n",
    "\n",
    "# Show the contents of the log file\n",
    "print(\"Log contents:\")\n",
    "print(logger1.show_log())"
   ]
  },
  {
   "cell_type": "markdown",
   "id": "dc116b0e-fde0-459b-8b5e-df0a640761b7",
   "metadata": {},
   "source": [
    "# Factory Method"
   ]
  },
  {
   "cell_type": "code",
   "execution_count": 6,
   "id": "acc1a2c7-2992-48bf-8576-2e862632bf07",
   "metadata": {},
   "outputs": [
    {
     "name": "stdout",
     "output_type": "stream",
     "text": [
      "App: Launched with the Poem.\n",
      "Client: I'm not aware of the creator's class, but it still works.\n",
      "This is render of the written: Some html code for poem\n",
      "\n",
      "App: Launched with the Paper.\n",
      "Client: I'm not aware of the creator's class, but it still works.\n",
      "This is render of the written: Some html code for paper"
     ]
    }
   ],
   "source": [
    "from __future__ import annotations\n",
    "from abc import ABC, abstractmethod\n",
    "\n",
    "\n",
    "class WrittenCreator(ABC):\n",
    "\n",
    "    @abstractmethod\n",
    "    def create_written(self):\n",
    "        pass\n",
    "\n",
    "    def render_written(self) -> str:\n",
    "        # Call the factory method to create a Product object.\n",
    "        written = self.create_written()\n",
    "\n",
    "        # Now, use the product.\n",
    "        result = f\"This is render of the written: {written.render()}\"\n",
    "\n",
    "        return result\n",
    "\n",
    "\n",
    "class PoemCreator(WrittenCreator):\n",
    "    def create_written(self) -> Poem:\n",
    "        return Poem()\n",
    "\n",
    "\n",
    "class PaperCreator(WrittenCreator):\n",
    "    def create_written(self) -> Paper:\n",
    "        return Paper()\n",
    "\n",
    "\n",
    "class Written(ABC):\n",
    "    @abstractmethod\n",
    "    def render(self) -> str:\n",
    "        pass\n",
    "\n",
    "\n",
    "\n",
    "class Poem(Written):\n",
    "    def render(self) -> str:\n",
    "        return \"Some html code for poem\"\n",
    "\n",
    "\n",
    "class Paper(Written):\n",
    "    def render(self) -> str:\n",
    "        return \"Some html code for paper\"\n",
    "\n",
    "\n",
    "def client_code(creator: Creator) -> None:\n",
    "    \"\"\"\n",
    "    The client code works with an instance of a concrete creator, albeit through\n",
    "    its base interface. As long as the client keeps working with the creator via\n",
    "    the base interface, you can pass it any creator's subclass.\n",
    "    \"\"\"\n",
    "\n",
    "    print(f\"Client: I'm not aware of the creator's class, but it still works.\\n\"\n",
    "          f\"{creator.render_written()}\", end=\"\")\n",
    "\n",
    "\n",
    "if __name__ == \"__main__\":\n",
    "    print(\"App: Launched with the Poem.\")\n",
    "    client_code(PoemCreator())\n",
    "    print(\"\\n\")\n",
    "\n",
    "    print(\"App: Launched with the Paper.\")\n",
    "    client_code(PaperCreator())"
   ]
  },
  {
   "cell_type": "markdown",
   "id": "1d588425-b45a-41a7-b7ed-d303b9a701c0",
   "metadata": {},
   "source": [
    "## Example 2"
   ]
  },
  {
   "cell_type": "code",
   "execution_count": 10,
   "id": "29e21a45-458f-42ca-a3f4-0ac11faa4563",
   "metadata": {},
   "outputs": [
    {
     "name": "stdout",
     "output_type": "stream",
     "text": [
      "Sending email with message: Hello World\n",
      "Sending email with message: Hello World\n",
      "Sending email with message: Hello World\n",
      "Sending email with message: Hello World\n",
      "Sending email with message: Hello World\n",
      "Sending email with message: Hello World\n",
      "Sending email with message: Hello World\n",
      "Sending email with message: Hello World\n",
      "Sending email with message: Hello World\n",
      "Sending email with message: Hello World\n"
     ]
    }
   ],
   "source": [
    "from abc import ABC, abstractmethod\n",
    "\n",
    "class Notification (ABC):\n",
    "    @abstractmethod\n",
    "    def send(self, message):\n",
    "        pass\n",
    "\n",
    "class EmailNotification(Notification):\n",
    "    def send(self, message):\n",
    "        print(f\"Sending email with message: {message}\")\n",
    "\n",
    "class SMSNotification(Notification):\n",
    "    def send(self, message):\n",
    "        print(f\"Sending SMS with message: {message}\")\n",
    "\n",
    "class PushNotification(Notification):\n",
    "    def send(self, message):\n",
    "        print(f\"Sending push notification with message: {message}\")\n",
    "\n",
    "class NotificationFactory(ABC):\n",
    "    def create_notification(self) -> Notification:\n",
    "        pass\n",
    "\n",
    "    def multiple_send(self, message: str, number: int):\n",
    "        notif = self.create_notification()\n",
    "        for _ in range(number):\n",
    "            notif.send(message)\n",
    "\n",
    "class EmailNotifFactory(NotificationFactory):\n",
    "    def create_notification(self) -> EmailNotification:\n",
    "        return EmailNotification()\n",
    "\n",
    "class SMSNotifFactory(NotificationFactory):\n",
    "    def create_notification(self) -> SMSNotification:\n",
    "        return SMSNotification()\n",
    "\n",
    "class PushNotifFactory(NotificationFactory):\n",
    "    def create_notification(self) -> PushNotification:\n",
    "        return PushNotification()\n",
    "\n",
    "\n",
    "if __name__ == \"__main__\":\n",
    "    # Using the factory to create notifications\n",
    "    factory = EmailNotifFactory()\n",
    "    factory.multiple_send(\"Hello World\", 10)"
   ]
  },
  {
   "cell_type": "code",
   "execution_count": null,
   "id": "0647c174-3d5e-46e4-b81a-44082671cf05",
   "metadata": {},
   "outputs": [],
   "source": []
  }
 ],
 "metadata": {
  "kernelspec": {
   "display_name": "Python 3 (ipykernel)",
   "language": "python",
   "name": "python3"
  },
  "language_info": {
   "codemirror_mode": {
    "name": "ipython",
    "version": 3
   },
   "file_extension": ".py",
   "mimetype": "text/x-python",
   "name": "python",
   "nbconvert_exporter": "python",
   "pygments_lexer": "ipython3",
   "version": "3.10.12"
  }
 },
 "nbformat": 4,
 "nbformat_minor": 5
}
